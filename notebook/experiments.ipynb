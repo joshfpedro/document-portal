{
 "cells": [
  {
   "cell_type": "code",
   "execution_count": 1,
   "id": "38d7fb1e",
   "metadata": {},
   "outputs": [
    {
     "name": "stdout",
     "output_type": "stream",
     "text": [
      "all_ok\n"
     ]
    }
   ],
   "source": [
    "print(\"all_ok\")"
   ]
  },
  {
   "cell_type": "code",
   "execution_count": 2,
   "id": "a541f900",
   "metadata": {},
   "outputs": [],
   "source": [
    "from langchain_groq import ChatGroq"
   ]
  },
  {
   "cell_type": "code",
   "execution_count": 3,
   "id": "4fa69039",
   "metadata": {},
   "outputs": [],
   "source": [
    "from dotenv import load_dotenv"
   ]
  },
  {
   "cell_type": "code",
   "execution_count": 4,
   "id": "e1872577",
   "metadata": {},
   "outputs": [
    {
     "data": {
      "text/plain": [
       "True"
      ]
     },
     "execution_count": 4,
     "metadata": {},
     "output_type": "execute_result"
    }
   ],
   "source": [
    "load_dotenv()"
   ]
  },
  {
   "cell_type": "code",
   "execution_count": 5,
   "id": "7a02b133",
   "metadata": {},
   "outputs": [],
   "source": [
    "model = ChatGroq(model=\"qwen/qwen3-32b\")"
   ]
  },
  {
   "cell_type": "code",
   "execution_count": 6,
   "id": "2732668e",
   "metadata": {},
   "outputs": [
    {
     "name": "stdout",
     "output_type": "stream",
     "text": [
      "<think>\n",
      "Okay, someone is asking, \"What is the capital of France?\" Hmm, I need to make sure I get this right. Let me think. I remember from school that France's capital is Paris. But wait, maybe I should double-check. Sometimes countries have capitals that aren't as well-known. For example, I think Canada's capital is Ottawa, not Toronto. So maybe France's capital isn't as obvious as Paris? Wait, no, I'm pretty sure it's Paris. Let me recall some other facts. Paris is where the Eiffel Tower is, and it's a major city in France. Yeah, that makes sense. Maybe I should consider if there's any other possibility. There's Lyon, Marseille, maybe Bordeaux? No, those are other cities in France. I think Paris is definitely the capital. Let me also think about the European Union—Paris is a big city, home to many international organizations. Yeah, I'm pretty confident that the capital of France is Paris. I don't think there's any confusion here. I'll go with Paris as the answer.\n",
      "</think>\n",
      "\n",
      "The capital of France is **Paris**. It is renowned for its historical significance, cultural landmarks such as the Eiffel Tower and the Louvre Museum, and its role as a global center for art, fashion, and gastronomy. Paris has been the capital of France since 1549, following the relocation of the royal seat from the Loire Valley to the Île de France region. \n",
      "\n",
      "**Answer:** Paris.\n"
     ]
    }
   ],
   "source": [
    "print(model.invoke(\"What is the capital of France?\").content)"
   ]
  },
  {
   "cell_type": "code",
   "execution_count": 7,
   "id": "d811c971",
   "metadata": {},
   "outputs": [],
   "source": [
    "from langchain_google_genai import GoogleGenerativeAIEmbeddings"
   ]
  },
  {
   "cell_type": "code",
   "execution_count": 8,
   "id": "ed0bd409",
   "metadata": {},
   "outputs": [],
   "source": [
    "embedding_model = GoogleGenerativeAIEmbeddings(model=\"models/embedding-001\")"
   ]
  }
 ],
 "metadata": {
  "kernelspec": {
   "display_name": "env",
   "language": "python",
   "name": "python3"
  },
  "language_info": {
   "codemirror_mode": {
    "name": "ipython",
    "version": 3
   },
   "file_extension": ".py",
   "mimetype": "text/x-python",
   "name": "python",
   "nbconvert_exporter": "python",
   "pygments_lexer": "ipython3",
   "version": "3.10.18"
  }
 },
 "nbformat": 4,
 "nbformat_minor": 5
}
